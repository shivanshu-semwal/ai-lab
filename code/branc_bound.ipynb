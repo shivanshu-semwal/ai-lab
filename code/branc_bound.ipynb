{
 "cells": [
  {
   "cell_type": "markdown",
   "id": "9821d92d",
   "metadata": {},
   "source": [
    "# Branch and Bound"
   ]
  },
  {
   "cell_type": "markdown",
   "id": "a1c0001d",
   "metadata": {},
   "source": [
    "## Theory\n",
    "\n",
    "- Branch and bound is an algorithm design paradigm which is generally used for solving combinatorial optimization problems. \n",
    "- These problems are typically exponential in terms of time complexity and may require exploring all possible permutations in worst case.\n",
    "- The Branch and Bound Algorithm technique solves these problems relatively quickly.\n"
   ]
  },
  {
   "cell_type": "markdown",
   "id": "6c1981c9",
   "metadata": {},
   "source": [
    "- The Backtracking Solution can be optimized if we know a bound on best possible solution subtree rooted with every node. \n",
    "- If the best in subtree is worse than current best, we can simply ignore this node and its subtrees. \n",
    "- So we compute bound (best solution) for every node and compare the bound with current best solution before exploring the node"
   ]
  },
  {
   "cell_type": "code",
   "execution_count": 5,
   "id": "77b3630b",
   "metadata": {},
   "outputs": [],
   "source": [
    "graph = {\n",
    "    'S': { 'A':4, 'B':5},\n",
    "    'A': { 'S':4, 'E':15, 'B': 3, 'D':8},\n",
    "    'B': { 'S':5, 'A':3, 'D':6, 'C':4}, \n",
    "    'C': { 'B': 4, 'D': 4, 'G': 7},\n",
    "    'D': { 'A': 8, 'G': 2, 'E': 2, 'B': 6, 'C': 4},\n",
    "    'E': { 'A': 15, 'D': 2},\n",
    "    'G': { 'C':7, 'D': 2}\n",
    "}"
   ]
  },
  {
   "cell_type": "code",
   "execution_count": 6,
   "id": "a66149bf",
   "metadata": {},
   "outputs": [],
   "source": [
    "from queue import PriorityQueue\n",
    "import copy"
   ]
  },
  {
   "cell_type": "code",
   "execution_count": 7,
   "id": "4907fb44",
   "metadata": {},
   "outputs": [],
   "source": [
    "def branch_bound(graph, source, goal):\n",
    "    pq = PriorityQueue()\n",
    "        \n",
    "    bound = {}\n",
    "    for i in graph:\n",
    "        bound[i] = 1000000\n",
    "    \n",
    "    initial = (0, source, [])\n",
    "    pq.put(initial)\n",
    "    \n",
    "    answer = []\n",
    "    while not pq.empty():\n",
    "        d, node, path = pq.get()\n",
    "        print('visiting node: ' + str(node) + ' ' + str(d), end=' ')\n",
    "        print(path)\n",
    "        if bound[node] > d:\n",
    "            bound[node] = d\n",
    "            # explore this\n",
    "            print('adding nodes: ')\n",
    "            for i in graph[node]:\n",
    "                newpath = copy.deepcopy(path)\n",
    "                newpath.append(node)\n",
    "                newnode = (d + graph[node][i], i, newpath)\n",
    "                print('\\t' + str(newnode))\n",
    "                pq.put(newnode)                    \n",
    "            if node == goal:\n",
    "                # goal found \n",
    "                # terminate all path with length greater than currently found\n",
    "                # update bounds for rest of nodes\n",
    "                for i in bound:\n",
    "                    if bound[i] > d:\n",
    "                        bound[i] = d\n",
    "                answer = path\n",
    "        else:\n",
    "            print(\"\\tbetter path exist for \" + str(node) + \" of length \" + str(bound[node]))\n",
    "\n",
    "    if answer == []:\n",
    "        print(\"no path!\")\n",
    "    else:\n",
    "        print('\\nPath found: ' + '->'.join(answer) + '->' + goal) "
   ]
  },
  {
   "cell_type": "code",
   "execution_count": 8,
   "id": "2acd5b29",
   "metadata": {},
   "outputs": [
    {
     "name": "stdout",
     "output_type": "stream",
     "text": [
      "visiting node: S 0 []\n",
      "adding nodes: \n",
      "\t(4, 'A', ['S'])\n",
      "\t(5, 'B', ['S'])\n",
      "visiting node: A 4 ['S']\n",
      "adding nodes: \n",
      "\t(8, 'S', ['S', 'A'])\n",
      "\t(19, 'E', ['S', 'A'])\n",
      "\t(7, 'B', ['S', 'A'])\n",
      "\t(12, 'D', ['S', 'A'])\n",
      "visiting node: B 5 ['S']\n",
      "adding nodes: \n",
      "\t(10, 'S', ['S', 'B'])\n",
      "\t(8, 'A', ['S', 'B'])\n",
      "\t(11, 'D', ['S', 'B'])\n",
      "\t(9, 'C', ['S', 'B'])\n",
      "visiting node: B 7 ['S', 'A']\n",
      "\tbetter path exist for B of length 5\n",
      "visiting node: A 8 ['S', 'B']\n",
      "\tbetter path exist for A of length 4\n",
      "visiting node: S 8 ['S', 'A']\n",
      "\tbetter path exist for S of length 0\n",
      "visiting node: C 9 ['S', 'B']\n",
      "adding nodes: \n",
      "\t(13, 'B', ['S', 'B', 'C'])\n",
      "\t(13, 'D', ['S', 'B', 'C'])\n",
      "\t(16, 'G', ['S', 'B', 'C'])\n",
      "visiting node: S 10 ['S', 'B']\n",
      "\tbetter path exist for S of length 0\n",
      "visiting node: D 11 ['S', 'B']\n",
      "adding nodes: \n",
      "\t(19, 'A', ['S', 'B', 'D'])\n",
      "\t(13, 'G', ['S', 'B', 'D'])\n",
      "\t(13, 'E', ['S', 'B', 'D'])\n",
      "\t(17, 'B', ['S', 'B', 'D'])\n",
      "\t(15, 'C', ['S', 'B', 'D'])\n",
      "visiting node: D 12 ['S', 'A']\n",
      "\tbetter path exist for D of length 11\n",
      "visiting node: B 13 ['S', 'B', 'C']\n",
      "\tbetter path exist for B of length 5\n",
      "visiting node: D 13 ['S', 'B', 'C']\n",
      "\tbetter path exist for D of length 11\n",
      "visiting node: E 13 ['S', 'B', 'D']\n",
      "adding nodes: \n",
      "\t(28, 'A', ['S', 'B', 'D', 'E'])\n",
      "\t(15, 'D', ['S', 'B', 'D', 'E'])\n",
      "visiting node: G 13 ['S', 'B', 'D']\n",
      "adding nodes: \n",
      "\t(20, 'C', ['S', 'B', 'D', 'G'])\n",
      "\t(15, 'D', ['S', 'B', 'D', 'G'])\n",
      "visiting node: C 15 ['S', 'B', 'D']\n",
      "\tbetter path exist for C of length 9\n",
      "visiting node: D 15 ['S', 'B', 'D', 'E']\n",
      "\tbetter path exist for D of length 11\n",
      "visiting node: D 15 ['S', 'B', 'D', 'G']\n",
      "\tbetter path exist for D of length 11\n",
      "visiting node: G 16 ['S', 'B', 'C']\n",
      "\tbetter path exist for G of length 13\n",
      "visiting node: B 17 ['S', 'B', 'D']\n",
      "\tbetter path exist for B of length 5\n",
      "visiting node: A 19 ['S', 'B', 'D']\n",
      "\tbetter path exist for A of length 4\n",
      "visiting node: E 19 ['S', 'A']\n",
      "\tbetter path exist for E of length 13\n",
      "visiting node: C 20 ['S', 'B', 'D', 'G']\n",
      "\tbetter path exist for C of length 9\n",
      "visiting node: A 28 ['S', 'B', 'D', 'E']\n",
      "\tbetter path exist for A of length 4\n",
      "\n",
      "Path found: S->B->D->G\n"
     ]
    }
   ],
   "source": [
    "branch_bound(graph, 'S', 'G')"
   ]
  }
 ],
 "metadata": {
  "interpreter": {
   "hash": "916dbcbb3f70747c44a77c7bcd40155683ae19c65e1c03b4aa3499c5328201f1"
  },
  "kernelspec": {
   "display_name": "Python 3 (ipykernel)",
   "language": "python",
   "name": "python3"
  },
  "language_info": {
   "codemirror_mode": {
    "name": "ipython",
    "version": 3
   },
   "file_extension": ".py",
   "mimetype": "text/x-python",
   "name": "python",
   "nbconvert_exporter": "python",
   "pygments_lexer": "ipython3",
   "version": "3.8.10"
  }
 },
 "nbformat": 4,
 "nbformat_minor": 5
}
