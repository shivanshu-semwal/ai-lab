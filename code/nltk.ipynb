{
 "cells": [
  {
   "cell_type": "markdown",
   "metadata": {
    "id": "v38Ql8KP60tH"
   },
   "source": [
    "# Natural Langauge Processing (NLP)\n",
    "---"
   ]
  },
  {
   "cell_type": "markdown",
   "metadata": {
    "id": "iiAij4-a647m"
   },
   "source": [
    "- Natural language processing (NLP) refers to the branch of computer science\n",
    "concerned with giving computers the ability to understand text and spoken words in much the same way human beings can. \n",
    "- NLP combines computational linguistics—rule-based modeling of human language—with statistical, machine learning, and deep learning models.\n",
    "- NLTK, or Natural Language Toolkit, is a Python package that can be used for NLP."
   ]
  },
  {
   "cell_type": "markdown",
   "metadata": {
    "id": "u4ivkjj3680q"
   },
   "source": [
    "## Stemming\n",
    "\n",
    "---\n",
    "\n",
    "- Stemming is the process of producing morphological variants of a root/base word.\n",
    "- Stemming programs are commonly referred to as stemming algorithms or stemmers.\n",
    "- Stemming is an important part of the pipelining process in Natural language\n",
    "processing. \n",
    "- The input to the stemmer is tokenized words. Some Stemming\n",
    "algorithms are:"
   ]
  },
  {
   "cell_type": "markdown",
   "metadata": {
    "id": "soEdrzoy7M-A"
   },
   "source": [
    "### Porter’s Stemmer\n",
    "\n",
    "It is based on the idea that the suffixes in the English language are made up of a\n",
    "combination of smaller and simpler suffixes. This stemmer is known for its speed\n",
    "and simplicity. The main applications of Porter Stemmer include data mining and\n",
    "Information retrieval. However, its applications are only limited to English words.\n",
    "\n",
    "### Snowball Stemmer\n",
    "\n",
    "When compared to the Porter Stemmer, the Snowball Stemmer can map non-English\n",
    "words too. Since it supports other languages, the Snowball Stemmers can be called a\n",
    "multi-lingual stemmer. The Snowball stemmers are also imported from the NLTK\n",
    "package."
   ]
  },
  {
   "cell_type": "code",
   "execution_count": 11,
   "metadata": {
    "colab": {
     "base_uri": "https://localhost:8080/",
     "height": 17
    },
    "id": "Im1ToT6M7fQf",
    "outputId": "4d8f58aa-6017-49d0-e44b-6a8e64e468d4"
   },
   "outputs": [],
   "source": [
    "# importing libraries\n",
    "import nltk\n",
    "from nltk.stem import PorterStemmer\n",
    "from nltk.corpus import stopwords\n",
    "from nltk.stem import SnowballStemmer\n",
    "import string"
   ]
  },
  {
   "cell_type": "code",
   "execution_count": 12,
   "metadata": {
    "colab": {
     "base_uri": "https://localhost:8080/",
     "height": 104
    },
    "id": "erg6p2f48fgH",
    "outputId": "6d8baac1-a3de-4f9b-e2ef-7dc31a6f9817"
   },
   "outputs": [
    {
     "name": "stderr",
     "output_type": "stream",
     "text": [
      "[nltk_data] Downloading package stopwords to /home/totoro/nltk_data...\n",
      "[nltk_data]   Package stopwords is already up-to-date!\n",
      "[nltk_data] Downloading package punkt to /home/totoro/nltk_data...\n",
      "[nltk_data]   Package punkt is already up-to-date!\n"
     ]
    },
    {
     "data": {
      "text/plain": [
       "True"
      ]
     },
     "execution_count": 12,
     "metadata": {},
     "output_type": "execute_result"
    }
   ],
   "source": [
    "# download data for nltk\n",
    "nltk.download('stopwords')\n",
    "nltk.download('punkt')"
   ]
  },
  {
   "cell_type": "code",
   "execution_count": 13,
   "metadata": {
    "colab": {
     "base_uri": "https://localhost:8080/",
     "height": 17
    },
    "id": "6yM9t1aC83IK",
    "outputId": "6af94638-88d7-4cb2-ef2d-ad327961018d"
   },
   "outputs": [],
   "source": [
    "paragraph = \"\"\"Science is what we do to find out about the natural world. Natural sciences include, chemistry, biology, geology, astronomy, and physics. Science uses mathematics and logic, which are sometimes called \"formal sciences\". Natural science makes observations and experiments. Science produces accurate facts, scientific laws and theories. 'Science' also refers to the large amount of knowledge that has been found using this process. Research uses the scientific method. Scientific research uses hypotheses based on ideas or earlier knowledge, which can be categorized through different topics. Then those hypotheses are tested by experiments. People who study and research science and try to find out everything about it are called scientists. Scientists study things by looking at them very carefully, by measuring them, and by doing experiments and tests. Scientists try to explain why things act the way they do, and predict what will happen.\"\"\""
   ]
  },
  {
   "cell_type": "markdown",
   "metadata": {
    "id": "tZkV8GRq9iY7"
   },
   "source": [
    "## Tokenizing using PorterStemmer"
   ]
  },
  {
   "cell_type": "code",
   "execution_count": 14,
   "metadata": {
    "colab": {
     "base_uri": "https://localhost:8080/",
     "height": 225
    },
    "id": "1hDe5Vs99Pvc",
    "outputId": "c620c67e-afd9-4f4c-e7bc-80ab1e553812"
   },
   "outputs": [
    {
     "data": {
      "text/plain": [
       "['Science is what we do to find out about the natural world.',\n",
       " 'Natural sciences include, chemistry, biology, geology, astronomy, and physics.',\n",
       " 'Science uses mathematics and logic, which are sometimes called \"formal sciences\".',\n",
       " 'Natural science makes observations and experiments.',\n",
       " 'Science produces accurate facts, scientific laws and theories.',\n",
       " \"'Science' also refers to the large amount of knowledge that has been found using this process.\",\n",
       " 'Research uses the scientific method.',\n",
       " 'Scientific research uses hypotheses based on ideas or earlier knowledge, which can be categorized through different topics.',\n",
       " 'Then those hypotheses are tested by experiments.',\n",
       " 'People who study and research science and try to find out everything about it are called scientists.',\n",
       " 'Scientists study things by looking at them very carefully, by measuring them, and by doing experiments and tests.',\n",
       " 'Scientists try to explain why things act the way they do, and predict what will happen.']"
      ]
     },
     "execution_count": 14,
     "metadata": {},
     "output_type": "execute_result"
    }
   ],
   "source": [
    "# tokenizing using porter stemmer\n",
    "sentences = nltk.sent_tokenize(paragraph)\n",
    "sentences"
   ]
  },
  {
   "cell_type": "code",
   "execution_count": 15,
   "metadata": {
    "colab": {
     "base_uri": "https://localhost:8080/",
     "height": 17
    },
    "id": "bEiKAfoWEJXQ",
    "outputId": "4852d2da-2644-466d-fa51-b949d83f552a"
   },
   "outputs": [],
   "source": [
    "stemmer = PorterStemmer()"
   ]
  },
  {
   "cell_type": "code",
   "execution_count": 16,
   "metadata": {
    "colab": {
     "base_uri": "https://localhost:8080/",
     "height": 225
    },
    "id": "Nn6mH9b29XhT",
    "outputId": "6041631c-96cb-466c-a370-fbbec2d38927"
   },
   "outputs": [
    {
     "data": {
      "text/plain": [
       "['scienc find natur world .',\n",
       " 'natur scienc includ , chemistri , biolog , geolog , astronomi , physic .',\n",
       " \"scienc use mathemat logic , sometim call `` formal scienc '' .\",\n",
       " 'natur scienc make observ experi .',\n",
       " 'scienc produc accur fact , scientif law theori .',\n",
       " \"'scienc ' also refer larg amount knowledg found use process .\",\n",
       " 'research use scientif method .',\n",
       " 'scientif research use hypothes base idea earlier knowledg , categor differ topic .',\n",
       " 'then hypothes test experi .',\n",
       " 'peopl studi research scienc tri find everyth call scientist .',\n",
       " 'scientist studi thing look care , measur , experi test .',\n",
       " 'scientist tri explain thing act way , predict happen .']"
      ]
     },
     "execution_count": 16,
     "metadata": {},
     "output_type": "execute_result"
    }
   ],
   "source": [
    "for i in range(len(sentences)):\n",
    "  words = nltk.word_tokenize(sentences[i])\n",
    "  words = [stemmer.stem(word) for word in words if word not in set(stopwords.words('english'))]\n",
    "  sentences[i] = ' '.join(words)\n",
    "# output of porter stemmer\n",
    "sentences"
   ]
  },
  {
   "cell_type": "markdown",
   "metadata": {
    "id": "JQBERy-A-6we"
   },
   "source": [
    "## Tokenize using SnowballStemmer"
   ]
  },
  {
   "cell_type": "code",
   "execution_count": 17,
   "metadata": {
    "colab": {
     "base_uri": "https://localhost:8080/",
     "height": 17
    },
    "id": "OA9E7-ZJ_lKV",
    "outputId": "a4dbbfd9-c9e7-4563-907c-7382bbc8c70f"
   },
   "outputs": [],
   "source": [
    "stemmer2 = SnowballStemmer('english')"
   ]
  },
  {
   "cell_type": "code",
   "execution_count": 18,
   "metadata": {
    "colab": {
     "base_uri": "https://localhost:8080/",
     "height": 225
    },
    "id": "sEYDKm0B_uWv",
    "outputId": "c046d5cc-8873-4937-c1bb-cf147d47d327"
   },
   "outputs": [
    {
     "data": {
      "text/plain": [
       "['scienc find natur world .',\n",
       " 'natur scienc includ , chemistri , biolog , geolog , astronomi , physic .',\n",
       " 'scienc use mathemat logic , sometim call `` formal scienc `` .',\n",
       " 'natur scienc make observ experi .',\n",
       " 'scienc produc accur fact , scientif law theori .',\n",
       " \"scienc ' also refer larg amount knowledg found use process .\",\n",
       " 'research use scientif method .',\n",
       " 'scientif research use hypoth base idea earlier knowledg , categor differ topic .',\n",
       " 'hypoth test experi .',\n",
       " 'peopl studi research scienc tri find everyth call scientist .',\n",
       " 'scientist studi thing look care , measur , experi test .',\n",
       " 'scientist tri explain thing act way , predict happen .']"
      ]
     },
     "execution_count": 18,
     "metadata": {},
     "output_type": "execute_result"
    }
   ],
   "source": [
    "for i in range(len(sentences)):\n",
    "  words = nltk.word_tokenize(sentences[i])\n",
    "  words = [stemmer2.stem(word) for word in words if word not in set(stopwords.words('english'))]\n",
    "  sentences[i] = ' '.join(words)\n",
    "# output using snowball stemmer\n",
    "sentences"
   ]
  },
  {
   "cell_type": "markdown",
   "metadata": {
    "id": "h1_s3giNAE3Z"
   },
   "source": [
    "## Removing Punctuations\n"
   ]
  },
  {
   "cell_type": "code",
   "execution_count": 19,
   "metadata": {
    "colab": {
     "base_uri": "https://localhost:8080/",
     "height": 34
    },
    "id": "7WbUcandARW8",
    "outputId": "a466cd9d-f6f3-4e71-cd85-d1b0342ab88f"
   },
   "outputs": [
    {
     "name": "stdout",
     "output_type": "stream",
     "text": [
      "\" { ` ^ = - + < & / . % $ > ! : ( ~ # ? _ , ' ) [ @ \\ | } * ; ]\n"
     ]
    }
   ],
   "source": [
    "filtered = []\n",
    "s = set(string.punctuation)\n",
    "print(' '.join(s))"
   ]
  },
  {
   "cell_type": "code",
   "execution_count": 20,
   "metadata": {
    "colab": {
     "base_uri": "https://localhost:8080/",
     "height": 157
    },
    "id": "OooQROOtCAVe",
    "outputId": "0b4e3d6d-d0cf-46d1-b429-4f84beaf132f"
   },
   "outputs": [
    {
     "data": {
      "text/plain": [
       "'scienc find natur world natur scienc includ chemistri biolog geolog astronomi physic scienc use mathemat logic sometim call `` formal scienc `` natur scienc make observ experi scienc produc accur fact scientif law theori scienc also refer larg amount knowledg found use process research use scientif method scientif research use hypoth base idea earlier knowledg categor differ topic hypoth test experi peopl studi research scienc tri find everyth call scientist scientist studi thing look care measur experi test scientist tri explain thing act way predict happen'"
      ]
     },
     "execution_count": 20,
     "metadata": {},
     "output_type": "execute_result"
    }
   ],
   "source": [
    "for i in range(len(sentences)):\n",
    "  words = nltk.word_tokenize(sentences[i])\n",
    "\n",
    "  for j in words:\n",
    "    if j not in s:\n",
    "      filtered.append(j)\n",
    "' '.join(filtered)"
   ]
  },
  {
   "cell_type": "code",
   "execution_count": 1,
   "metadata": {},
   "outputs": [],
   "source": [
    "t = \"\"\"Hello, I am ram and I like to study science books.\"\"\""
   ]
  },
  {
   "cell_type": "code",
   "execution_count": null,
   "metadata": {},
   "outputs": [],
   "source": [
    "for i in range(len(t)):\n",
    "    words = nltk.word_tokenize(t)"
   ]
  }
 ],
 "metadata": {
  "colab": {
   "collapsed_sections": [],
   "name": "ai_lab.ipynb",
   "provenance": []
  },
  "kernelspec": {
   "display_name": "Python 3 (ipykernel)",
   "language": "python",
   "name": "python3"
  },
  "language_info": {
   "codemirror_mode": {
    "name": "ipython",
    "version": 3
   },
   "file_extension": ".py",
   "mimetype": "text/x-python",
   "name": "python",
   "nbconvert_exporter": "python",
   "pygments_lexer": "ipython3",
   "version": "3.8.10"
  }
 },
 "nbformat": 4,
 "nbformat_minor": 1
}
